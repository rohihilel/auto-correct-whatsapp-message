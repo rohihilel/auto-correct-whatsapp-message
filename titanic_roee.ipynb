{
  "nbformat": 4,
  "nbformat_minor": 0,
  "metadata": {
    "colab": {
      "name": "titanic-roee.ipynb",
      "provenance": [],
      "collapsed_sections": [],
      "mount_file_id": "1c_1LRXdlmbiWOhEXXyfdGQWop-bLfQ8Z",
      "authorship_tag": "ABX9TyPRN+Zj/sqwyVk8KmrBTSze",
      "include_colab_link": true
    },
    "kernelspec": {
      "name": "python3",
      "display_name": "Python 3"
    },
    "language_info": {
      "name": "python"
    }
  },
  "cells": [
    {
      "cell_type": "markdown",
      "metadata": {
        "id": "view-in-github",
        "colab_type": "text"
      },
      "source": [
        "<a href=\"https://colab.research.google.com/github/rohihilel/auto-correct-whatsapp-message/blob/main/titanic_roee.ipynb\" target=\"_parent\"><img src=\"https://colab.research.google.com/assets/colab-badge.svg\" alt=\"Open In Colab\"/></a>"
      ]
    },
    {
      "cell_type": "code",
      "metadata": {
        "id": "0B-eZACB5EAV"
      },
      "source": [
        "import pandas as pd\n",
        "import numpy as np\n",
        "import time\n",
        "from sklearn import metrics\n",
        "from sklearn.preprocessing import MinMaxScaler\n",
        "from sklearn.preprocessing import LabelEncoder\n",
        "from sklearn.model_selection import train_test_split\n",
        "from sklearn.neighbors import KNeighborsClassifier\n",
        "from sklearn.metrics import classification_report, confusion_matrix, plot_confusion_matrix\n",
        "path = \"/content/drive/MyDrive/datasets/titanic.csv\"\n",
        "df = pd.read_csv(path)"
      ],
      "execution_count": 698,
      "outputs": []
    },
    {
      "cell_type": "markdown",
      "metadata": {
        "id": "XoLkO-kL6Aqq"
      },
      "source": [
        "1.יש לוודא שהמידע תקין, אין בו כפילויות, חוסרים או ערכים תקולים:\n"
      ]
    },
    {
      "cell_type": "code",
      "metadata": {
        "colab": {
          "base_uri": "https://localhost:8080/"
        },
        "id": "12BwxLoD5wg0",
        "outputId": "29de5b10-1fc3-4f74-bde0-96b8bc664cf3"
      },
      "source": [
        "df['PassengerId'].value_counts()"
      ],
      "execution_count": 699,
      "outputs": [
        {
          "output_type": "execute_result",
          "data": {
            "text/plain": [
              "1309    1\n",
              "449     1\n",
              "431     1\n",
              "432     1\n",
              "433     1\n",
              "       ..\n",
              "874     1\n",
              "875     1\n",
              "876     1\n",
              "877     1\n",
              "1       1\n",
              "Name: PassengerId, Length: 1309, dtype: int64"
            ]
          },
          "metadata": {
            "tags": []
          },
          "execution_count": 699
        }
      ]
    },
    {
      "cell_type": "markdown",
      "metadata": {
        "id": "xpvPMiUZ_Fkr"
      },
      "source": [
        "בדקתי על כל עמודה ורק בשמות מצאתי כפילויות - אין כפילויות"
      ]
    },
    {
      "cell_type": "code",
      "metadata": {
        "colab": {
          "base_uri": "https://localhost:8080/"
        },
        "id": "TbCZSJwN5wkD",
        "outputId": "2642a044-b010-4bc0-8155-ea6c43503cdf"
      },
      "source": [
        "df.info()"
      ],
      "execution_count": 700,
      "outputs": [
        {
          "output_type": "stream",
          "text": [
            "<class 'pandas.core.frame.DataFrame'>\n",
            "RangeIndex: 1309 entries, 0 to 1308\n",
            "Data columns (total 12 columns):\n",
            " #   Column       Non-Null Count  Dtype  \n",
            "---  ------       --------------  -----  \n",
            " 0   PassengerId  1309 non-null   int64  \n",
            " 1   Survived     1309 non-null   int64  \n",
            " 2   Pclass       1309 non-null   int64  \n",
            " 3   Name         1309 non-null   object \n",
            " 4   Sex          1309 non-null   object \n",
            " 5   Age          1046 non-null   float64\n",
            " 6   SibSp        1309 non-null   int64  \n",
            " 7   Parch        1309 non-null   int64  \n",
            " 8   Ticket       1309 non-null   object \n",
            " 9   Fare         1308 non-null   float64\n",
            " 10  Cabin        295 non-null    object \n",
            " 11  Embarked     1307 non-null   object \n",
            "dtypes: float64(2), int64(5), object(5)\n",
            "memory usage: 122.8+ KB\n"
          ],
          "name": "stdout"
        }
      ]
    },
    {
      "cell_type": "markdown",
      "metadata": {
        "id": "4JUaq-d95PoF"
      },
      "source": [
        "ישנם 1309 שורות, לכן ניתן לראות שבעמודה של הגיל יש חוסר מפני שיש 1046 במקום 1309, גם בעוד כמה עמודות יש חוסרים אז  לכן נחשב את הממוצע של איפה שיש חסרים בעמודות של מספרים כגון: AGE , FARE"
      ]
    },
    {
      "cell_type": "code",
      "metadata": {
        "id": "cj99mQAi5wnd"
      },
      "source": [
        "avrage_age=df['Age'].mean()\n",
        "avrage_fare=df['Fare'].mean()"
      ],
      "execution_count": 701,
      "outputs": []
    },
    {
      "cell_type": "markdown",
      "metadata": {
        "id": "WmkIc7k56o2h"
      },
      "source": [
        "נמלא איפה שחסר"
      ]
    },
    {
      "cell_type": "code",
      "metadata": {
        "id": "vVWoWkn_6tBi"
      },
      "source": [
        "df['Age'].fillna(value=avrage_age, inplace=True)\n",
        "df['Fare'].fillna(value=avrage_fare, inplace=True)"
      ],
      "execution_count": 702,
      "outputs": []
    },
    {
      "cell_type": "markdown",
      "metadata": {
        "id": "p5ewFOFr66G6"
      },
      "source": [
        "embark היא עמודה ללא מספר אלא אותיות לכן נשתמש בפונקציה שלוקחת את הערך הקודם"
      ]
    },
    {
      "cell_type": "code",
      "metadata": {
        "id": "QxOKc9JW8h4M"
      },
      "source": [
        "df['Embarked'].fillna( method ='ffill', limit = 1, inplace = True)"
      ],
      "execution_count": 703,
      "outputs": []
    },
    {
      "cell_type": "markdown",
      "metadata": {
        "id": "UfWcBnXH9qHc"
      },
      "source": [
        "embark is about where the person got to the ship C = Cherbourg; Q = Queenstown; S = Southampton\n",
        "זה לא מספר או כן ולא ולכן נבדוק את הערכים ונשנה בהתאם"
      ]
    },
    {
      "cell_type": "code",
      "metadata": {
        "colab": {
          "base_uri": "https://localhost:8080/"
        },
        "id": "YjrJW2ue-BYg",
        "outputId": "7bb5c15b-8056-4597-afd6-24cba2408fdc"
      },
      "source": [
        "df['Embarked'].value_counts(normalize=True)"
      ],
      "execution_count": 704,
      "outputs": [
        {
          "output_type": "execute_result",
          "data": {
            "text/plain": [
              "S    0.698243\n",
              "C    0.207028\n",
              "Q    0.094729\n",
              "Name: Embarked, dtype: float64"
            ]
          },
          "metadata": {
            "tags": []
          },
          "execution_count": 704
        }
      ]
    },
    {
      "cell_type": "markdown",
      "metadata": {
        "id": "5pNYwkjVALIz"
      },
      "source": [
        "נשנה"
      ]
    },
    {
      "cell_type": "code",
      "metadata": {
        "id": "dsBJFVr-AXjH"
      },
      "source": [
        "S   = 0.698243\n",
        "C    =0.207028\n",
        "Q   = 0.094729\n",
        "df[\"Embarked\"].replace({\"S\": 0.698243, \"C\": 0.207028, \"Q\":0.094729}, inplace=True)"
      ],
      "execution_count": 705,
      "outputs": []
    },
    {
      "cell_type": "markdown",
      "metadata": {
        "id": "6D3cG-aRBHWr"
      },
      "source": [
        "נהפוך את הערכים של מין לבוליאן נכון ולא נכון"
      ]
    },
    {
      "cell_type": "code",
      "metadata": {
        "id": "HGae9k2bBQ_z"
      },
      "source": [
        "df['isMale'] = df['Sex']=='male'\n",
        "df.drop('Sex', axis=1, inplace=True)"
      ],
      "execution_count": 706,
      "outputs": []
    },
    {
      "cell_type": "markdown",
      "metadata": {
        "id": "HLDuHaJYBYp0"
      },
      "source": [
        "remove the cabin section cause there is a lot missing"
      ]
    },
    {
      "cell_type": "code",
      "metadata": {
        "id": "xGlg1IvZBdRY"
      },
      "source": [
        "df.drop('Cabin', axis=1, inplace=True)"
      ],
      "execution_count": 707,
      "outputs": []
    },
    {
      "cell_type": "markdown",
      "metadata": {
        "id": "lb4oL5gzBnbZ"
      },
      "source": [
        "נבדוק"
      ]
    },
    {
      "cell_type": "code",
      "metadata": {
        "colab": {
          "base_uri": "https://localhost:8080/"
        },
        "id": "AWNuWGBzBZmh",
        "outputId": "2d70efc7-6048-4d3d-95e0-355ffffc1fe5"
      },
      "source": [
        "df.info()"
      ],
      "execution_count": 708,
      "outputs": [
        {
          "output_type": "stream",
          "text": [
            "<class 'pandas.core.frame.DataFrame'>\n",
            "RangeIndex: 1309 entries, 0 to 1308\n",
            "Data columns (total 11 columns):\n",
            " #   Column       Non-Null Count  Dtype  \n",
            "---  ------       --------------  -----  \n",
            " 0   PassengerId  1309 non-null   int64  \n",
            " 1   Survived     1309 non-null   int64  \n",
            " 2   Pclass       1309 non-null   int64  \n",
            " 3   Name         1309 non-null   object \n",
            " 4   Age          1309 non-null   float64\n",
            " 5   SibSp        1309 non-null   int64  \n",
            " 6   Parch        1309 non-null   int64  \n",
            " 7   Ticket       1309 non-null   object \n",
            " 8   Fare         1309 non-null   float64\n",
            " 9   Embarked     1309 non-null   float64\n",
            " 10  isMale       1309 non-null   bool   \n",
            "dtypes: bool(1), float64(3), int64(5), object(2)\n",
            "memory usage: 103.7+ KB\n"
          ],
          "name": "stdout"
        }
      ]
    },
    {
      "cell_type": "markdown",
      "metadata": {
        "id": "xD4bArCTBx1P"
      },
      "source": [
        "כמו שניתן לראות לא חסר שום דבר עכשיו"
      ]
    },
    {
      "cell_type": "code",
      "metadata": {
        "id": "ZwyAU16HdKwp",
        "colab": {
          "base_uri": "https://localhost:8080/",
          "height": 202
        },
        "outputId": "38f546f8-d33d-43c5-9a83-b222686dea4d"
      },
      "source": [
        "df.head()"
      ],
      "execution_count": 709,
      "outputs": [
        {
          "output_type": "execute_result",
          "data": {
            "text/html": [
              "<div>\n",
              "<style scoped>\n",
              "    .dataframe tbody tr th:only-of-type {\n",
              "        vertical-align: middle;\n",
              "    }\n",
              "\n",
              "    .dataframe tbody tr th {\n",
              "        vertical-align: top;\n",
              "    }\n",
              "\n",
              "    .dataframe thead th {\n",
              "        text-align: right;\n",
              "    }\n",
              "</style>\n",
              "<table border=\"1\" class=\"dataframe\">\n",
              "  <thead>\n",
              "    <tr style=\"text-align: right;\">\n",
              "      <th></th>\n",
              "      <th>PassengerId</th>\n",
              "      <th>Survived</th>\n",
              "      <th>Pclass</th>\n",
              "      <th>Name</th>\n",
              "      <th>Age</th>\n",
              "      <th>SibSp</th>\n",
              "      <th>Parch</th>\n",
              "      <th>Ticket</th>\n",
              "      <th>Fare</th>\n",
              "      <th>Embarked</th>\n",
              "      <th>isMale</th>\n",
              "    </tr>\n",
              "  </thead>\n",
              "  <tbody>\n",
              "    <tr>\n",
              "      <th>0</th>\n",
              "      <td>1</td>\n",
              "      <td>0</td>\n",
              "      <td>3</td>\n",
              "      <td>Braund, Mr. Owen Harris</td>\n",
              "      <td>22.0</td>\n",
              "      <td>1</td>\n",
              "      <td>0</td>\n",
              "      <td>A/5 21171</td>\n",
              "      <td>7.2500</td>\n",
              "      <td>0.698243</td>\n",
              "      <td>True</td>\n",
              "    </tr>\n",
              "    <tr>\n",
              "      <th>1</th>\n",
              "      <td>2</td>\n",
              "      <td>1</td>\n",
              "      <td>1</td>\n",
              "      <td>Cumings, Mrs. John Bradley (Florence Briggs Th...</td>\n",
              "      <td>38.0</td>\n",
              "      <td>1</td>\n",
              "      <td>0</td>\n",
              "      <td>PC 17599</td>\n",
              "      <td>71.2833</td>\n",
              "      <td>0.207028</td>\n",
              "      <td>False</td>\n",
              "    </tr>\n",
              "    <tr>\n",
              "      <th>2</th>\n",
              "      <td>3</td>\n",
              "      <td>1</td>\n",
              "      <td>3</td>\n",
              "      <td>Heikkinen, Miss. Laina</td>\n",
              "      <td>26.0</td>\n",
              "      <td>0</td>\n",
              "      <td>0</td>\n",
              "      <td>STON/O2. 3101282</td>\n",
              "      <td>7.9250</td>\n",
              "      <td>0.698243</td>\n",
              "      <td>False</td>\n",
              "    </tr>\n",
              "    <tr>\n",
              "      <th>3</th>\n",
              "      <td>4</td>\n",
              "      <td>1</td>\n",
              "      <td>1</td>\n",
              "      <td>Futrelle, Mrs. Jacques Heath (Lily May Peel)</td>\n",
              "      <td>35.0</td>\n",
              "      <td>1</td>\n",
              "      <td>0</td>\n",
              "      <td>113803</td>\n",
              "      <td>53.1000</td>\n",
              "      <td>0.698243</td>\n",
              "      <td>False</td>\n",
              "    </tr>\n",
              "    <tr>\n",
              "      <th>4</th>\n",
              "      <td>5</td>\n",
              "      <td>0</td>\n",
              "      <td>3</td>\n",
              "      <td>Allen, Mr. William Henry</td>\n",
              "      <td>35.0</td>\n",
              "      <td>0</td>\n",
              "      <td>0</td>\n",
              "      <td>373450</td>\n",
              "      <td>8.0500</td>\n",
              "      <td>0.698243</td>\n",
              "      <td>True</td>\n",
              "    </tr>\n",
              "  </tbody>\n",
              "</table>\n",
              "</div>"
            ],
            "text/plain": [
              "   PassengerId  Survived  Pclass  ...     Fare  Embarked  isMale\n",
              "0            1         0       3  ...   7.2500  0.698243    True\n",
              "1            2         1       1  ...  71.2833  0.207028   False\n",
              "2            3         1       3  ...   7.9250  0.698243   False\n",
              "3            4         1       1  ...  53.1000  0.698243   False\n",
              "4            5         0       3  ...   8.0500  0.698243    True\n",
              "\n",
              "[5 rows x 11 columns]"
            ]
          },
          "metadata": {
            "tags": []
          },
          "execution_count": 709
        }
      ]
    },
    {
      "cell_type": "markdown",
      "metadata": {
        "id": "89egbXb7avRU"
      },
      "source": [
        "עכשיו צריך להפריד את הערכים ל :\n",
        "\n",
        "\n",
        "*   XY\n",
        "ולהפריד את הדברים החשובים. לפי דעתי הדברים החשובים אצלנו זה הדמי כניסה, גיל, מין, מקורבים ומקום עלייה, כל השאר הם דברים פרטיים ששונים לכל אחד כמו שם ושם כרטיס\n",
        "\n"
      ]
    },
    {
      "cell_type": "code",
      "metadata": {
        "colab": {
          "base_uri": "https://localhost:8080/"
        },
        "id": "F-1cL9M3WpFG",
        "outputId": "eb897c01-a7b1-482a-8e9a-5855705b10fd"
      },
      "source": [
        "X = df.iloc[:,[False,False,False,False,True,True,True,False,True,True,True]].values\n",
        "Y = df.iloc[:, 1].values\n",
        "print(\"start: \",X.shape, Y.shape)"
      ],
      "execution_count": 710,
      "outputs": [
        {
          "output_type": "stream",
          "text": [
            "start:  (1309, 6) (1309,)\n"
          ],
          "name": "stdout"
        }
      ]
    },
    {
      "cell_type": "markdown",
      "metadata": {
        "id": "bYH-uOiXiLr1"
      },
      "source": [
        "נחליף את מה שכתוב בזכר נקבה במקום נכון לא נכון ל 0 1"
      ]
    },
    {
      "cell_type": "code",
      "metadata": {
        "colab": {
          "base_uri": "https://localhost:8080/"
        },
        "id": "bB9L3HQtdlrx",
        "outputId": "6f9ee9ce-96ee-4b8e-8240-845899eabccd"
      },
      "source": [
        "labelencoder_X = LabelEncoder()\n",
        "X[:, 5] = labelencoder_X.fit_transform(X[:, 5])\n",
        "print(Y)"
      ],
      "execution_count": 711,
      "outputs": [
        {
          "output_type": "stream",
          "text": [
            "[0 1 1 ... 0 0 0]\n"
          ],
          "name": "stdout"
        }
      ]
    },
    {
      "cell_type": "markdown",
      "metadata": {
        "id": "eYL3-Twzja_0"
      },
      "source": [
        "נשנה את סוגי המספרים לפלואט, ככה שהמחשב  יוכל לקרוא את זה וניתן לעמודות שם בטבלה החדשה"
      ]
    },
    {
      "cell_type": "code",
      "metadata": {
        "colab": {
          "base_uri": "https://localhost:8080/"
        },
        "id": "Nox5rBU1eRz-",
        "outputId": "5946789a-3189-4cd3-deca-c54438614900"
      },
      "source": [
        "Y1 = Y.reshape((len(Y),1))\n",
        "\n",
        "np_arr = np.concatenate((Y1,X),axis=1)\n",
        "df1 = pd.DataFrame(np_arr)\n",
        "\n",
        "df1.columns = ['Survived','Age', 'SibSp', 'Parch', 'Fare', 'Embarked', 'isMale']\n",
        "df1 = df1.astype('float64')\n",
        "print(df1['isMale'])\n",
        "\n",
        "print(df1.corr()['Survived'][:].sort_values(ascending=False))\n"
      ],
      "execution_count": 712,
      "outputs": [
        {
          "output_type": "stream",
          "text": [
            "0       1.0\n",
            "1       0.0\n",
            "2       0.0\n",
            "3       0.0\n",
            "4       1.0\n",
            "       ... \n",
            "1304    1.0\n",
            "1305    0.0\n",
            "1306    1.0\n",
            "1307    1.0\n",
            "1308    1.0\n",
            "Name: isMale, Length: 1309, dtype: float64\n",
            "Survived    1.000000\n",
            "Fare        0.233568\n",
            "Parch       0.108919\n",
            "SibSp       0.002370\n",
            "Age        -0.048483\n",
            "Embarked   -0.133001\n",
            "isMale     -0.688371\n",
            "Name: Survived, dtype: float64\n"
          ],
          "name": "stdout"
        }
      ]
    },
    {
      "cell_type": "markdown",
      "metadata": {
        "id": "nYqapsGt8vbv"
      },
      "source": [
        "as we can see, SidSp and Age dont infect"
      ]
    },
    {
      "cell_type": "markdown",
      "metadata": {
        "id": "N7SqU2tvjrhg"
      },
      "source": [
        "בגלל שלמחשב לא קל לקרוא מספרים גבוהים נשתמש בסיפריה סקייל של "
      ]
    },
    {
      "cell_type": "markdown",
      "metadata": {
        "id": "_PA2q71fj0U2"
      },
      "source": [
        "sklearn "
      ]
    },
    {
      "cell_type": "markdown",
      "metadata": {
        "id": "GR79QEbsj4TH"
      },
      "source": [
        "ונעשה למשתנים התאמה עשרונית חוץ ממשתנה המין שהוא לא תלוי אלא הוא כן ולא"
      ]
    },
    {
      "cell_type": "code",
      "metadata": {
        "colab": {
          "base_uri": "https://localhost:8080/"
        },
        "id": "Qndf12stiJUA",
        "outputId": "000fba50-d62e-44e0-ef33-a422567e5a93"
      },
      "source": [
        "print(df1)\n",
        "scaler = MinMaxScaler()\n",
        "df1[['Age', 'SibSp', 'Parch', 'Fare', 'Embarked', 'isMale']] = scaler.fit_transform(df1[['Age', 'SibSp', 'Parch', 'Fare', 'Embarked', 'isMale']])\n",
        "\n",
        "Y=df1['Survived']\n",
        "xc = df1[['Age', 'SibSp', 'Parch', 'Fare', 'Embarked', 'isMale']]\n",
        "print(xc)\n"
      ],
      "execution_count": 713,
      "outputs": [
        {
          "output_type": "stream",
          "text": [
            "      Survived        Age  SibSp  Parch      Fare  Embarked  isMale\n",
            "0          0.0  22.000000    1.0    0.0    7.2500  0.698243     1.0\n",
            "1          1.0  38.000000    1.0    0.0   71.2833  0.207028     0.0\n",
            "2          1.0  26.000000    0.0    0.0    7.9250  0.698243     0.0\n",
            "3          1.0  35.000000    1.0    0.0   53.1000  0.698243     0.0\n",
            "4          0.0  35.000000    0.0    0.0    8.0500  0.698243     1.0\n",
            "...        ...        ...    ...    ...       ...       ...     ...\n",
            "1304       0.0  29.881138    0.0    0.0    8.0500  0.698243     1.0\n",
            "1305       1.0  39.000000    0.0    0.0  108.9000  0.207028     0.0\n",
            "1306       0.0  38.500000    0.0    0.0    7.2500  0.698243     1.0\n",
            "1307       0.0  29.881138    0.0    0.0    8.0500  0.698243     1.0\n",
            "1308       0.0  29.881138    1.0    1.0   22.3583  0.207028     1.0\n",
            "\n",
            "[1309 rows x 7 columns]\n",
            "           Age  SibSp     Parch      Fare  Embarked  isMale\n",
            "0     0.273456  0.125  0.000000  0.014151  1.000000     1.0\n",
            "1     0.473882  0.125  0.000000  0.139136  0.186075     0.0\n",
            "2     0.323563  0.000  0.000000  0.015469  1.000000     0.0\n",
            "3     0.436302  0.125  0.000000  0.103644  1.000000     0.0\n",
            "4     0.436302  0.000  0.000000  0.015713  1.000000     1.0\n",
            "...        ...    ...       ...       ...       ...     ...\n",
            "1304  0.372180  0.000  0.000000  0.015713  1.000000     1.0\n",
            "1305  0.486409  0.000  0.000000  0.212559  0.186075     0.0\n",
            "1306  0.480145  0.000  0.000000  0.014151  1.000000     1.0\n",
            "1307  0.372180  0.000  0.000000  0.015713  1.000000     1.0\n",
            "1308  0.372180  0.125  0.111111  0.043640  0.186075     1.0\n",
            "\n",
            "[1309 rows x 6 columns]\n"
          ],
          "name": "stdout"
        }
      ]
    },
    {
      "cell_type": "markdown",
      "metadata": {
        "id": "w3rCUqD8kifI"
      },
      "source": [
        "נחלק לאימון ומבחן"
      ]
    },
    {
      "cell_type": "code",
      "metadata": {
        "id": "5te8xE6xkk93"
      },
      "source": [
        "X_train, X_test, Y_train, Y_test = train_test_split(xc, Y, test_size = 0.2)"
      ],
      "execution_count": 714,
      "outputs": []
    },
    {
      "cell_type": "code",
      "metadata": {
        "colab": {
          "base_uri": "https://localhost:8080/"
        },
        "id": "3GP-ix5Mk5J-",
        "outputId": "e6f41a9f-8796-469b-ff99-95b0ec13713e"
      },
      "source": [
        "print(\"train: \", X_train.shape, Y_train.shape)\n",
        "print(\"test:  \" , X_test.shape, Y_test.shape)\n"
      ],
      "execution_count": 715,
      "outputs": [
        {
          "output_type": "stream",
          "text": [
            "train:  (1047, 6) (1047,)\n",
            "test:   (262, 6) (262,)\n"
          ],
          "name": "stdout"
        }
      ]
    },
    {
      "cell_type": "markdown",
      "metadata": {
        "id": "_PaFhO94XLYm"
      },
      "source": [
        "for every k from 3 to 10 with jump netween 2 we are training the mashine, checking the score of the test and another check is: metricks accurcy score"
      ]
    },
    {
      "cell_type": "code",
      "metadata": {
        "colab": {
          "base_uri": "https://localhost:8080/"
        },
        "id": "WNm52OtWxp5w",
        "outputId": "4b1b5965-543f-4e29-be11-225a3b7c0b36"
      },
      "source": [
        "for k in range(3,10,2):\n",
        "    knn3 = KNeighborsClassifier(n_neighbors = k)  \n",
        "    knn3.fit(X_train,Y_train)     \n",
        "    print(\"k = {} score test: {}\".format(k,knn1.score(X_test, Y_test)))  \n",
        "    print(\"metrics:\")\n",
        "    y_pred = knn3.predict(X_test)\n",
        "    print(metrics.accuracy_score(Y_test, y_pred))\n",
        "    print(\"\\n\"+\"*\"*15+\"\\n\")\n",
        "    time.sleep(1) "
      ],
      "execution_count": 716,
      "outputs": [
        {
          "output_type": "stream",
          "text": [
            "k = 3 score test: 0.9083969465648855\n",
            "metrics:\n",
            "0.816793893129771\n",
            "\n",
            "***************\n",
            "\n",
            "k = 5 score test: 0.9083969465648855\n",
            "metrics:\n",
            "0.8244274809160306\n",
            "\n",
            "***************\n",
            "\n",
            "k = 7 score test: 0.9083969465648855\n",
            "metrics:\n",
            "0.8435114503816794\n",
            "\n",
            "***************\n",
            "\n",
            "k = 9 score test: 0.9083969465648855\n",
            "metrics:\n",
            "0.8549618320610687\n",
            "\n",
            "***************\n",
            "\n"
          ],
          "name": "stdout"
        }
      ]
    }
  ]
}